{
 "cells": [
  {
   "cell_type": "code",
   "execution_count": 1,
   "id": "structured-survival",
   "metadata": {},
   "outputs": [],
   "source": [
    "import os \n",
    "import torch \n",
    "from torch.utils.data import Dataset, DataLoader\n",
    "from torchvision.transforms import Resize, InterpolationMode\n",
    "from torchvision.transforms.functional import hflip, vflip\n",
    "from data import Test_Preprocessor\n",
    "from config import * \n",
    "from tqdm import tqdm\n",
    "from PIL import Image\n",
    "import glob\n",
    "import numpy as np"
   ]
  },
  {
   "cell_type": "code",
   "execution_count": 2,
   "id": "descending-proxy",
   "metadata": {},
   "outputs": [],
   "source": [
    "class Evaluator:\n",
    "    def __init__(self, model, image_transform, device='cuda'):\n",
    "        self.model = model.to(device)\n",
    "        self.image_transform = image_transform\n",
    "        self.device = device\n",
    "    \n",
    "    @torch.no_grad()\n",
    "    def _predict(self, path, mask_mode='color', do_tta=True, vote_mode='any'):         \n",
    "        x = self.image_transform(Image.open(path).convert('RGB'), None)[0].to(self.device)\n",
    "        if do_tta: \n",
    "            X, tta_fns = self.forward_TTA(x)\n",
    "            mask = self.backward_TTA(model(X), tta_fns)\n",
    "            if vote_mode == 'any': \n",
    "                mask = (mask > 0.5).any(dim=0).squeeze()\n",
    "            elif vote_mode == 'soft': \n",
    "                mask = (mask.mean(dim=0).squeeze() > 0.5)\n",
    "        else: \n",
    "            mask = model(x.unsqueeze(0)).squeeze() > 0.5\n",
    "\n",
    "        if mask_mode ==  'color': \n",
    "            mask = torch.where(mask, 255, 0)\n",
    "            self._check_range(mask, [0, 255])\n",
    "        elif mask_mode == 'class': \n",
    "            mask = torch.where(mask, 1, 0)\n",
    "            self._check_range(mask, [0, 1])\n",
    "        return mask\n",
    "    \n",
    "    def evaluate(self, image_paths, label_paths, do_tta=True, vote_mode='any'): \n",
    "        assert len(image_paths) == len(label_paths)\n",
    "        total_score = 0 \n",
    "        self.model.eval()\n",
    "        for image_path, label_path in tqdm(list(zip(image_paths, label_paths))): \n",
    "            gt = torch.from_numpy(np.load(label_path)['image']).to(self.device)\n",
    "            mask = self._predict(image_path, mask_mode='class', do_tta=do_tta, vote_mode=vote_mode)\n",
    "            mask = Resize(gt.shape, InterpolationMode.NEAREST)(mask.unsqueeze(0)).squeeze()\n",
    "            total_score += Evaluator.dice_score(mask, gt)\n",
    "        return total_score/len(image_paths)            \n",
    "    \n",
    "    def test(self, paths, save_dir, mask_mode='color', do_tta=True, vote_mode='any'): \n",
    "        assert mask_mode in ('color', 'class')\n",
    "        assert vote_mode in ('any', 'soft')\n",
    "        assert hasattr(paths, '__iter__'), \"Input Variable paths is not iterable!\"\n",
    "        for path in paths: \n",
    "            assert os.path.isfile(path), f\"'{path}' does not exist!\"\n",
    "        \n",
    "        self.model.eval()\n",
    "        for path in tqdm(paths): \n",
    "            mask = self._predict(path, mask_mode, do_tta, vote_mode)\n",
    "            self._save(mask.cpu().numpy().astype(np.uint8), path, save_dir)\n",
    "        \n",
    "    def _save(self, mask, path, save_dir): \n",
    "        save_path = os.path.join(save_dir, os.path.basename(path).split(\".\")[0] + \".png\")\n",
    "        Image.fromarray(mask).save(save_path)\n",
    "        \n",
    "    def _check_range(self, mask, range_list): \n",
    "        res = torch.zeros_like(mask)\n",
    "        for ele in range_list:\n",
    "            res += (mask == ele).long()\n",
    "        assert torch.all(res > 0)\n",
    "        \n",
    "    def forward_TTA(self, x):\n",
    "        res = []\n",
    "        tta_fns = [(x, y) for x in [lambda x: x, hflip] for y in [lambda x: x, vflip]]\n",
    "        for aug_pair in tta_fns:\n",
    "            res.append(aug_pair[1](aug_pair[0](x)))\n",
    "        return torch.stack(res, dim=0), tta_fns \n",
    "    \n",
    "    def backward_TTA(self, X, tta_fns): \n",
    "        res = []\n",
    "        for index in range(len(tta_fns)):\n",
    "            tta_fn = tta_fns[index]\n",
    "            res.append(tta_fn[1](tta_fn[0](X.select(0, index))))\n",
    "        return torch.stack(res, dim=0)\n",
    "\n",
    "    @staticmethod\n",
    "    def dice_score(pred, gt, ep=1e-8):\n",
    "        return ((2 * pred * gt).sum()/(pred.sum() + gt.sum() + ep)).item()        "
   ]
  },
  {
   "cell_type": "code",
   "execution_count": 3,
   "id": "later-start",
   "metadata": {},
   "outputs": [],
   "source": [
    "model = torch.load(\"./resunet.pt\", map_location='cpu')\n",
    "evaluator = Evaluator(model, Test_Preprocessor(test_img_size), 'cuda')"
   ]
  },
  {
   "cell_type": "code",
   "execution_count": 4,
   "id": "authentic-philadelphia",
   "metadata": {},
   "outputs": [],
   "source": [
    "paths = glob.glob(\"./data/Public_Image/*.jpg\")\n",
    "save_dir = \"./Public_Prediction/\"\n",
    "# evaluator.test(paths, save_dir, vote_mode='soft')"
   ]
  },
  {
   "cell_type": "code",
   "execution_count": 5,
   "id": "personalized-referral",
   "metadata": {},
   "outputs": [],
   "source": [
    "image_paths = sorted(glob.glob(\"./data/Train_Images/*.jpg\"))\n",
    "label_paths = sorted(glob.glob(\"./data/Annotations/*.npz\"))"
   ]
  },
  {
   "cell_type": "code",
   "execution_count": 6,
   "id": "decimal-pennsylvania",
   "metadata": {},
   "outputs": [
    {
     "name": "stderr",
     "output_type": "stream",
     "text": [
      "100%|██████████| 1053/1053 [01:24<00:00, 12.44it/s]\n"
     ]
    },
    {
     "data": {
      "text/plain": [
       "0.9059746657398239"
      ]
     },
     "execution_count": 6,
     "metadata": {},
     "output_type": "execute_result"
    }
   ],
   "source": [
    "evaluator.evaluate(image_paths, label_paths, do_tta=False)"
   ]
  },
  {
   "cell_type": "code",
   "execution_count": 7,
   "id": "retained-hungarian",
   "metadata": {},
   "outputs": [
    {
     "name": "stderr",
     "output_type": "stream",
     "text": [
      "100%|██████████| 1053/1053 [01:34<00:00, 11.14it/s]\n",
      "  0%|          | 2/1053 [00:00<01:36, 10.89it/s]"
     ]
    },
    {
     "name": "stdout",
     "output_type": "stream",
     "text": [
      "0.8935207332495922\n"
     ]
    },
    {
     "name": "stderr",
     "output_type": "stream",
     "text": [
      "100%|██████████| 1053/1053 [01:34<00:00, 11.16it/s]"
     ]
    },
    {
     "name": "stdout",
     "output_type": "stream",
     "text": [
      "0.9192156528404861\n"
     ]
    },
    {
     "name": "stderr",
     "output_type": "stream",
     "text": [
      "\n"
     ]
    }
   ],
   "source": [
    "print(evaluator.evaluate(image_paths, label_paths, do_tta=True, vote_mode='any'))\n",
    "print(evaluator.evaluate(image_paths, label_paths, do_tta=True, vote_mode='soft'))"
   ]
  },
  {
   "cell_type": "code",
   "execution_count": null,
   "id": "sharp-omaha",
   "metadata": {},
   "outputs": [],
   "source": []
  },
  {
   "cell_type": "code",
   "execution_count": null,
   "id": "explicit-feeding",
   "metadata": {},
   "outputs": [],
   "source": []
  },
  {
   "cell_type": "code",
   "execution_count": 3,
   "id": "forward-editing",
   "metadata": {},
   "outputs": [],
   "source": [
    "model = torch.load(\"./resunet.pt\", map_location='cpu')\n",
    "evaluator = Evaluator(model, Test_Preprocessor((480, 480)), 'cuda')"
   ]
  },
  {
   "cell_type": "code",
   "execution_count": 5,
   "id": "forward-zambia",
   "metadata": {},
   "outputs": [
    {
     "name": "stderr",
     "output_type": "stream",
     "text": [
      "100%|██████████| 1053/1053 [01:30<00:00, 11.62it/s]\n"
     ]
    },
    {
     "data": {
      "text/plain": [
       "0.8814735211439055"
      ]
     },
     "execution_count": 5,
     "metadata": {},
     "output_type": "execute_result"
    }
   ],
   "source": [
    "evaluator.evaluate(image_paths, label_paths, do_tta=False)"
   ]
  },
  {
   "cell_type": "code",
   "execution_count": 6,
   "id": "respected-stable",
   "metadata": {},
   "outputs": [
    {
     "name": "stderr",
     "output_type": "stream",
     "text": [
      "100%|██████████| 1053/1053 [01:57<00:00,  8.93it/s]\n",
      "  0%|          | 1/1053 [00:00<01:59,  8.81it/s]"
     ]
    },
    {
     "name": "stdout",
     "output_type": "stream",
     "text": [
      "0.8598563821114253\n"
     ]
    },
    {
     "name": "stderr",
     "output_type": "stream",
     "text": [
      "100%|██████████| 1053/1053 [01:57<00:00,  8.95it/s]"
     ]
    },
    {
     "name": "stdout",
     "output_type": "stream",
     "text": [
      "0.895019933369085\n"
     ]
    },
    {
     "name": "stderr",
     "output_type": "stream",
     "text": [
      "\n"
     ]
    }
   ],
   "source": [
    "print(evaluator.evaluate(image_paths, label_paths, do_tta=True, vote_mode='any'))\n",
    "print(evaluator.evaluate(image_paths, label_paths, do_tta=True, vote_mode='soft'))"
   ]
  },
  {
   "cell_type": "code",
   "execution_count": null,
   "id": "distant-trouble",
   "metadata": {},
   "outputs": [],
   "source": []
  },
  {
   "cell_type": "code",
   "execution_count": 3,
   "id": "medical-coverage",
   "metadata": {},
   "outputs": [],
   "source": [
    "model = torch.load(\"./resunet.pt\", map_location='cpu')\n",
    "evaluator = Evaluator(model, Test_Preprocessor((512, 512)), 'cuda')"
   ]
  },
  {
   "cell_type": "code",
   "execution_count": 6,
   "id": "tutorial-joint",
   "metadata": {},
   "outputs": [
    {
     "name": "stderr",
     "output_type": "stream",
     "text": [
      "100%|██████████| 1053/1053 [01:31<00:00, 11.50it/s]\n"
     ]
    },
    {
     "data": {
      "text/plain": [
       "0.87561472892365"
      ]
     },
     "execution_count": 6,
     "metadata": {},
     "output_type": "execute_result"
    }
   ],
   "source": [
    "evaluator.evaluate(image_paths, label_paths, do_tta=False)"
   ]
  },
  {
   "cell_type": "code",
   "execution_count": null,
   "id": "short-travel",
   "metadata": {},
   "outputs": [
    {
     "name": "stderr",
     "output_type": "stream",
     "text": [
      "100%|██████████| 1053/1053 [02:02<00:00,  8.63it/s]\n",
      "  0%|          | 1/1053 [00:00<02:03,  8.51it/s]"
     ]
    },
    {
     "name": "stdout",
     "output_type": "stream",
     "text": [
      "0.8539000108965442\n"
     ]
    },
    {
     "name": "stderr",
     "output_type": "stream",
     "text": [
      " 43%|████▎     | 450/1053 [00:52<01:09,  8.73it/s]"
     ]
    }
   ],
   "source": [
    "print(evaluator.evaluate(image_paths, label_paths, do_tta=True, vote_mode='any'))\n",
    "print(evaluator.evaluate(image_paths, label_paths, do_tta=True, vote_mode='soft'))"
   ]
  },
  {
   "cell_type": "code",
   "execution_count": null,
   "id": "spare-slope",
   "metadata": {},
   "outputs": [],
   "source": []
  }
 ],
 "metadata": {
  "kernelspec": {
   "display_name": "Python 3",
   "language": "python",
   "name": "python3"
  },
  "language_info": {
   "codemirror_mode": {
    "name": "ipython",
    "version": 3
   },
   "file_extension": ".py",
   "mimetype": "text/x-python",
   "name": "python",
   "nbconvert_exporter": "python",
   "pygments_lexer": "ipython3",
   "version": "3.7.10"
  }
 },
 "nbformat": 4,
 "nbformat_minor": 5
}
