{
 "cells": [
  {
   "cell_type": "code",
   "execution_count": 3,
   "id": "structured-survival",
   "metadata": {},
   "outputs": [],
   "source": [
    "import os \n",
    "import torch \n",
    "from torchvision.transforms import Resize, InterpolationMode\n",
    "from torchvision.transforms.functional import hflip, vflip\n",
    "from data import Test_Preprocessor\n",
    "from configs.config import * \n",
    "from tqdm import tqdm\n",
    "from PIL import Image\n",
    "import glob\n",
    "import numpy as np"
   ]
  },
  {
   "cell_type": "code",
   "execution_count": 4,
   "id": "descending-proxy",
   "metadata": {},
   "outputs": [],
   "source": [
    "class Evaluator:\n",
    "    def __init__(self, model, image_transform, device='cuda'):\n",
    "        self.model = model.to(device)\n",
    "        self.image_transform = image_transform\n",
    "        self.device = device\n",
    "    \n",
    "    @torch.no_grad()\n",
    "    def _predict(self, path, mask_mode='color', do_tta=True, vote_mode='any'):         \n",
    "        x = self.image_transform(Image.open(path).convert('RGB'), None)[0].to(self.device)\n",
    "        if do_tta: \n",
    "            X, tta_fns = self.forward_TTA(x)\n",
    "            mask = self.backward_TTA(model(X), tta_fns)\n",
    "            if vote_mode == 'any': \n",
    "                mask = (mask > 0.5).any(dim=0).squeeze()\n",
    "            elif vote_mode == 'soft': \n",
    "                mask = (mask.mean(dim=0).squeeze() > 0.5)\n",
    "        else: \n",
    "            mask = model(x.unsqueeze(0)).squeeze() > 0.5\n",
    "\n",
    "        if mask_mode ==  'color': \n",
    "            mask = torch.where(mask, 255, 0)\n",
    "            self._check_range(mask, [0, 255])\n",
    "        elif mask_mode == 'class': \n",
    "            mask = torch.where(mask, 1, 0)\n",
    "            self._check_range(mask, [0, 1])\n",
    "        return mask\n",
    "    \n",
    "    def evaluate(self, image_paths, label_paths, do_tta=True, vote_mode='any'): \n",
    "        assert len(image_paths) == len(label_paths)\n",
    "        total_score = 0 \n",
    "        self.model.eval()\n",
    "        for image_path, label_path in tqdm(list(zip(image_paths, label_paths))): \n",
    "            gt = torch.from_numpy(np.load(label_path)['image']).to(self.device)\n",
    "            mask = self._predict(image_path, mask_mode='class', do_tta=do_tta, vote_mode=vote_mode)\n",
    "            mask = Resize(gt.shape, InterpolationMode.NEAREST)(mask.unsqueeze(0)).squeeze()\n",
    "            total_score += Evaluator.dice_score(mask, gt)\n",
    "        return total_score/len(image_paths)            \n",
    "    \n",
    "    def test(self, paths, save_dir, mask_mode='color', do_tta=True, vote_mode='any'): \n",
    "        assert mask_mode in ('color', 'class')\n",
    "        assert vote_mode in ('any', 'soft')\n",
    "        assert hasattr(paths, '__iter__'), \"Input Variable paths is not iterable!\"\n",
    "        for path in paths: \n",
    "            assert os.path.isfile(path), f\"'{path}' does not exist!\"\n",
    "        \n",
    "        self.model.eval()\n",
    "        for path in tqdm(paths): \n",
    "            mask = self._predict(path, mask_mode, do_tta, vote_mode)\n",
    "            self._save(mask.cpu().numpy().astype(np.uint8), path, save_dir)\n",
    "        \n",
    "    def _save(self, mask, path, save_dir): \n",
    "        save_path = os.path.join(save_dir, os.path.basename(path).split(\".\")[0] + \".png\")\n",
    "        Image.fromarray(mask).save(save_path)\n",
    "        \n",
    "    def _check_range(self, mask, range_list): \n",
    "        res = torch.zeros_like(mask)\n",
    "        for ele in range_list:\n",
    "            res += (mask == ele).long()\n",
    "        assert torch.all(res > 0)\n",
    "        \n",
    "    def forward_TTA(self, x):\n",
    "        res = []\n",
    "        tta_fns = [(x, y) for x in [lambda x: x, hflip] for y in [lambda x: x, vflip]]\n",
    "        for aug_pair in tta_fns:\n",
    "            res.append(aug_pair[1](aug_pair[0](x)))\n",
    "        return torch.stack(res, dim=0), tta_fns \n",
    "    \n",
    "    def backward_TTA(self, X, tta_fns): \n",
    "        res = []\n",
    "        for index in range(len(tta_fns)):\n",
    "            tta_fn = tta_fns[index]\n",
    "            res.append(tta_fn[1](tta_fn[0](X.select(0, index))))\n",
    "        return torch.stack(res, dim=0)\n",
    "\n",
    "    @staticmethod\n",
    "    def dice_score(pred, gt, ep=1e-8):\n",
    "        return ((2 * pred * gt).sum()/(pred.sum() + gt.sum() + ep)).item()        "
   ]
  },
  {
   "cell_type": "code",
   "execution_count": 3,
   "id": "later-start",
   "metadata": {},
   "outputs": [],
   "source": [
    "model = torch.load(\"./models/resunet.pt\", map_location='cpu')\n",
    "evaluator = Evaluator(model, Test_Preprocessor(test_img_size), 'cuda')"
   ]
  },
  {
   "cell_type": "code",
   "execution_count": 4,
   "id": "authentic-philadelphia",
   "metadata": {},
   "outputs": [],
   "source": [
    "paths = glob.glob(\"./data/Public_Image/*.jpg\")\n",
    "save_dir = \"./Public_Prediction/\"\n",
    "# evaluator.test(paths, save_dir, vote_mode='soft')"
   ]
  },
  {
   "cell_type": "code",
   "execution_count": 8,
   "id": "personalized-referral",
   "metadata": {},
   "outputs": [
    {
     "name": "stdout",
     "output_type": "stream",
     "text": [
      "158\n"
     ]
    }
   ],
   "source": [
    "image_path_list = sorted(glob.glob(train_image_dir + \"*\" + img_suffix))\n",
    "split_index = int(len(image_path_list) * train_ratio)\n",
    "test_image_path_list = image_path_list[split_index:]\n",
    "test_label_path_list = [os.path.join(\"./data/Annotations/\", \"label_\" + os.path.basename(image_path).split(\".\")[0] + \".npz\") for image_path in test_image_path_list]\n",
    "\n",
    "print(len(test_image_path_list))"
   ]
  },
  {
   "cell_type": "code",
   "execution_count": 7,
   "id": "decimal-pennsylvania",
   "metadata": {},
   "outputs": [
    {
     "name": "stderr",
     "output_type": "stream",
     "text": [
      "100%|██████████| 158/158 [00:15<00:00, 10.37it/s]\n"
     ]
    },
    {
     "data": {
      "text/plain": [
       "0.8468356507865689"
      ]
     },
     "execution_count": 7,
     "metadata": {},
     "output_type": "execute_result"
    }
   ],
   "source": [
    "evaluator.evaluate(test_image_path_list, test_label_path_list, do_tta=False)"
   ]
  },
  {
   "cell_type": "code",
   "execution_count": 8,
   "id": "retained-hungarian",
   "metadata": {},
   "outputs": [
    {
     "name": "stderr",
     "output_type": "stream",
     "text": [
      "100%|██████████| 158/158 [00:14<00:00, 10.54it/s]\n",
      "  1%|▏         | 2/158 [00:00<00:14, 10.65it/s]"
     ]
    },
    {
     "name": "stdout",
     "output_type": "stream",
     "text": [
      "0.833565526123194\n"
     ]
    },
    {
     "name": "stderr",
     "output_type": "stream",
     "text": [
      "100%|██████████| 158/158 [00:14<00:00, 10.64it/s]"
     ]
    },
    {
     "name": "stdout",
     "output_type": "stream",
     "text": [
      "0.8581861566422107\n"
     ]
    },
    {
     "name": "stderr",
     "output_type": "stream",
     "text": [
      "\n"
     ]
    }
   ],
   "source": [
    "print(evaluator.evaluate(test_image_path_list, test_label_path_list, do_tta=True, vote_mode='any'))\n",
    "print(evaluator.evaluate(test_image_path_list, test_label_path_list, do_tta=True, vote_mode='soft'))"
   ]
  },
  {
   "cell_type": "code",
   "execution_count": null,
   "id": "sharp-omaha",
   "metadata": {},
   "outputs": [],
   "source": []
  },
  {
   "cell_type": "code",
   "execution_count": null,
   "id": "explicit-feeding",
   "metadata": {},
   "outputs": [],
   "source": []
  },
  {
   "cell_type": "code",
   "execution_count": 9,
   "id": "forward-editing",
   "metadata": {},
   "outputs": [],
   "source": [
    "model = torch.load(\"./models/resunet.pt\", map_location='cpu')\n",
    "evaluator = Evaluator(model, Test_Preprocessor((480, 480)), 'cuda')"
   ]
  },
  {
   "cell_type": "code",
   "execution_count": 10,
   "id": "forward-zambia",
   "metadata": {},
   "outputs": [
    {
     "name": "stderr",
     "output_type": "stream",
     "text": [
      "100%|██████████| 158/158 [00:14<00:00, 10.68it/s]\n"
     ]
    },
    {
     "data": {
      "text/plain": [
       "0.8379216458695599"
      ]
     },
     "execution_count": 10,
     "metadata": {},
     "output_type": "execute_result"
    }
   ],
   "source": [
    "evaluator.evaluate(test_image_path_list, test_label_path_list, do_tta=False)"
   ]
  },
  {
   "cell_type": "code",
   "execution_count": 11,
   "id": "respected-stable",
   "metadata": {},
   "outputs": [
    {
     "name": "stderr",
     "output_type": "stream",
     "text": [
      "100%|██████████| 158/158 [00:18<00:00,  8.62it/s]\n",
      "  1%|          | 1/158 [00:00<00:18,  8.67it/s]"
     ]
    },
    {
     "name": "stdout",
     "output_type": "stream",
     "text": [
      "0.826642942768109\n"
     ]
    },
    {
     "name": "stderr",
     "output_type": "stream",
     "text": [
      "100%|██████████| 158/158 [00:18<00:00,  8.74it/s]"
     ]
    },
    {
     "name": "stdout",
     "output_type": "stream",
     "text": [
      "0.850184780510166\n"
     ]
    },
    {
     "name": "stderr",
     "output_type": "stream",
     "text": [
      "\n"
     ]
    }
   ],
   "source": [
    "print(evaluator.evaluate(test_image_path_list, test_label_path_list, do_tta=True, vote_mode='any'))\n",
    "print(evaluator.evaluate(test_image_path_list, test_label_path_list, do_tta=True, vote_mode='soft'))"
   ]
  },
  {
   "cell_type": "code",
   "execution_count": 12,
   "id": "distant-trouble",
   "metadata": {},
   "outputs": [],
   "source": [
    "!touch evaluate.py"
   ]
  },
  {
   "cell_type": "code",
   "execution_count": 13,
   "id": "possible-holly",
   "metadata": {},
   "outputs": [],
   "source": [
    "!mkdir configs"
   ]
  },
  {
   "cell_type": "code",
   "execution_count": 14,
   "id": "recovered-maker",
   "metadata": {},
   "outputs": [
    {
     "data": {
      "text/plain": [
       "'./configs/config.py'"
      ]
     },
     "execution_count": 14,
     "metadata": {},
     "output_type": "execute_result"
    }
   ],
   "source": [
    "import shutil\n",
    "\n",
    "shutil.move(\"./config.py\", \"./configs/\")"
   ]
  },
  {
   "cell_type": "code",
   "execution_count": null,
   "id": "attached-science",
   "metadata": {},
   "outputs": [],
   "source": []
  }
 ],
 "metadata": {
  "kernelspec": {
   "display_name": "Python 3",
   "language": "python",
   "name": "python3"
  },
  "language_info": {
   "codemirror_mode": {
    "name": "ipython",
    "version": 3
   },
   "file_extension": ".py",
   "mimetype": "text/x-python",
   "name": "python",
   "nbconvert_exporter": "python",
   "pygments_lexer": "ipython3",
   "version": "3.7.10"
  }
 },
 "nbformat": 4,
 "nbformat_minor": 5
}
