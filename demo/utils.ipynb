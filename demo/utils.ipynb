{
 "cells": [
  {
   "cell_type": "code",
   "execution_count": 1,
   "id": "structured-survival",
   "metadata": {},
   "outputs": [],
   "source": [
    "import cv2\n",
    "import os \n",
    "import torch\n",
    "from torchvision.transforms import Resize, InterpolationMode\n",
    "from data import Test_Preprocessor\n",
    "from configs.config import * \n",
    "import glob\n",
    "import numpy as np\n",
    "from evaluate import Evaluator"
   ]
  },
  {
   "cell_type": "code",
   "execution_count": 2,
   "id": "stuck-bathroom",
   "metadata": {},
   "outputs": [],
   "source": [
    "model = torch.load(\"./models/resunet.pt\", map_location='cpu')\n",
    "evaluator = Evaluator(model, Test_Preprocessor((384, 384)), 'cuda')"
   ]
  },
  {
   "cell_type": "code",
   "execution_count": 3,
   "id": "known-accordance",
   "metadata": {},
   "outputs": [],
   "source": [
    "paths = glob.glob(\"./data/Train_Images/*.jpg\")"
   ]
  },
  {
   "cell_type": "code",
   "execution_count": 4,
   "id": "personalized-referral",
   "metadata": {},
   "outputs": [
    {
     "name": "stdout",
     "output_type": "stream",
     "text": [
      "158\n"
     ]
    }
   ],
   "source": [
    "image_path_list = sorted(glob.glob(train_image_dir + \"*\" + img_suffix))\n",
    "split_index = int(len(image_path_list) * train_ratio)\n",
    "test_image_path_list = image_path_list[split_index:]\n",
    "test_label_path_list = [os.path.join(\"./data/Annotations/\", \"label_\" + os.path.basename(image_path).split(\".\")[0] + \".npz\") for image_path in test_image_path_list]\n",
    "\n",
    "print(len(test_image_path_list))"
   ]
  },
  {
   "cell_type": "code",
   "execution_count": 5,
   "id": "decimal-pennsylvania",
   "metadata": {},
   "outputs": [
    {
     "name": "stderr",
     "output_type": "stream",
     "text": [
      "100%|██████████| 158/158 [00:14<00:00, 11.03it/s]\n"
     ]
    },
    {
     "data": {
      "text/plain": [
       "0.8468356507865689"
      ]
     },
     "execution_count": 5,
     "metadata": {},
     "output_type": "execute_result"
    }
   ],
   "source": [
    "evaluator.evaluate(test_image_path_list, test_label_path_list, do_tta=False)"
   ]
  },
  {
   "cell_type": "code",
   "execution_count": 6,
   "id": "retained-hungarian",
   "metadata": {},
   "outputs": [
    {
     "name": "stderr",
     "output_type": "stream",
     "text": [
      "100%|██████████| 158/158 [00:15<00:00, 10.44it/s]\n",
      "  1%|          | 1/158 [00:00<00:16,  9.41it/s]"
     ]
    },
    {
     "name": "stdout",
     "output_type": "stream",
     "text": [
      "0.833565526123194\n"
     ]
    },
    {
     "name": "stderr",
     "output_type": "stream",
     "text": [
      "100%|██████████| 158/158 [00:14<00:00, 10.72it/s]"
     ]
    },
    {
     "name": "stdout",
     "output_type": "stream",
     "text": [
      "0.8581861566422107\n"
     ]
    },
    {
     "name": "stderr",
     "output_type": "stream",
     "text": [
      "\n"
     ]
    }
   ],
   "source": [
    "print(evaluator.evaluate(test_image_path_list, test_label_path_list, do_tta=True, vote_mode='any'))\n",
    "print(evaluator.evaluate(test_image_path_list, test_label_path_list, do_tta=True, vote_mode='soft'))"
   ]
  },
  {
   "cell_type": "code",
   "execution_count": null,
   "id": "sharp-omaha",
   "metadata": {},
   "outputs": [],
   "source": []
  },
  {
   "cell_type": "code",
   "execution_count": null,
   "id": "explicit-feeding",
   "metadata": {},
   "outputs": [],
   "source": []
  },
  {
   "cell_type": "code",
   "execution_count": 7,
   "id": "numerous-drain",
   "metadata": {},
   "outputs": [],
   "source": [
    "%rm -rf \"./Public_Prediction/\"\n",
    "!mkdir \"./Public_Prediction/\""
   ]
  },
  {
   "cell_type": "code",
   "execution_count": 8,
   "id": "promising-commissioner",
   "metadata": {},
   "outputs": [
    {
     "name": "stderr",
     "output_type": "stream",
     "text": [
      "  1%|          | 1/131 [00:00<00:16,  8.08it/s]"
     ]
    },
    {
     "name": "stdout",
     "output_type": "stream",
     "text": [
      "Use (942, 1716) as output!\n"
     ]
    },
    {
     "name": "stderr",
     "output_type": "stream",
     "text": [
      "100%|██████████| 131/131 [00:13<00:00,  9.74it/s]\n"
     ]
    }
   ],
   "source": [
    "paths = glob.glob(\"./data/Public_Image/*.jpg\")\n",
    "evaluator.test(paths, \"./Public_Prediction/\", mask_mode='color', do_tta=True, vote_mode='soft')"
   ]
  },
  {
   "cell_type": "code",
   "execution_count": 9,
   "id": "dress-institution",
   "metadata": {},
   "outputs": [
    {
     "ename": "TypeError",
     "evalue": "Image data of dtype object cannot be converted to float",
     "output_type": "error",
     "traceback": [
      "\u001b[0;31m---------------------------------------------------------------------------\u001b[0m",
      "\u001b[0;31mTypeError\u001b[0m                                 Traceback (most recent call last)",
      "\u001b[0;32m<ipython-input-9-95c6d911f222>\u001b[0m in \u001b[0;36m<module>\u001b[0;34m\u001b[0m\n\u001b[1;32m      1\u001b[0m \u001b[0;32mimport\u001b[0m \u001b[0mmatplotlib\u001b[0m\u001b[0;34m.\u001b[0m\u001b[0mpyplot\u001b[0m \u001b[0;32mas\u001b[0m \u001b[0mplt\u001b[0m\u001b[0;34m\u001b[0m\u001b[0;34m\u001b[0m\u001b[0m\n\u001b[1;32m      2\u001b[0m \u001b[0;34m\u001b[0m\u001b[0m\n\u001b[0;32m----> 3\u001b[0;31m \u001b[0mplt\u001b[0m\u001b[0;34m.\u001b[0m\u001b[0mimshow\u001b[0m\u001b[0;34m(\u001b[0m\u001b[0mcv2\u001b[0m\u001b[0;34m.\u001b[0m\u001b[0mimread\u001b[0m\u001b[0;34m(\u001b[0m\u001b[0;34m\"./Public_Prediction/00000003.png\"\u001b[0m\u001b[0;34m)\u001b[0m\u001b[0;34m)\u001b[0m\u001b[0;34m\u001b[0m\u001b[0;34m\u001b[0m\u001b[0m\n\u001b[0m",
      "\u001b[0;32m~/anaconda3/lib/python3.7/site-packages/matplotlib/pyplot.py\u001b[0m in \u001b[0;36mimshow\u001b[0;34m(X, cmap, norm, aspect, interpolation, alpha, vmin, vmax, origin, extent, filternorm, filterrad, resample, url, data, **kwargs)\u001b[0m\n\u001b[1;32m   2728\u001b[0m         \u001b[0mfilternorm\u001b[0m\u001b[0;34m=\u001b[0m\u001b[0mfilternorm\u001b[0m\u001b[0;34m,\u001b[0m \u001b[0mfilterrad\u001b[0m\u001b[0;34m=\u001b[0m\u001b[0mfilterrad\u001b[0m\u001b[0;34m,\u001b[0m \u001b[0mresample\u001b[0m\u001b[0;34m=\u001b[0m\u001b[0mresample\u001b[0m\u001b[0;34m,\u001b[0m\u001b[0;34m\u001b[0m\u001b[0;34m\u001b[0m\u001b[0m\n\u001b[1;32m   2729\u001b[0m         \u001b[0murl\u001b[0m\u001b[0;34m=\u001b[0m\u001b[0murl\u001b[0m\u001b[0;34m,\u001b[0m \u001b[0;34m**\u001b[0m\u001b[0;34m(\u001b[0m\u001b[0;34m{\u001b[0m\u001b[0;34m\"data\"\u001b[0m\u001b[0;34m:\u001b[0m \u001b[0mdata\u001b[0m\u001b[0;34m}\u001b[0m \u001b[0;32mif\u001b[0m \u001b[0mdata\u001b[0m \u001b[0;32mis\u001b[0m \u001b[0;32mnot\u001b[0m \u001b[0;32mNone\u001b[0m \u001b[0;32melse\u001b[0m \u001b[0;34m{\u001b[0m\u001b[0;34m}\u001b[0m\u001b[0;34m)\u001b[0m\u001b[0;34m,\u001b[0m\u001b[0;34m\u001b[0m\u001b[0;34m\u001b[0m\u001b[0m\n\u001b[0;32m-> 2730\u001b[0;31m         **kwargs)\n\u001b[0m\u001b[1;32m   2731\u001b[0m     \u001b[0msci\u001b[0m\u001b[0;34m(\u001b[0m\u001b[0m__ret\u001b[0m\u001b[0;34m)\u001b[0m\u001b[0;34m\u001b[0m\u001b[0;34m\u001b[0m\u001b[0m\n\u001b[1;32m   2732\u001b[0m     \u001b[0;32mreturn\u001b[0m \u001b[0m__ret\u001b[0m\u001b[0;34m\u001b[0m\u001b[0;34m\u001b[0m\u001b[0m\n",
      "\u001b[0;32m~/anaconda3/lib/python3.7/site-packages/matplotlib/__init__.py\u001b[0m in \u001b[0;36minner\u001b[0;34m(ax, data, *args, **kwargs)\u001b[0m\n\u001b[1;32m   1445\u001b[0m     \u001b[0;32mdef\u001b[0m \u001b[0minner\u001b[0m\u001b[0;34m(\u001b[0m\u001b[0max\u001b[0m\u001b[0;34m,\u001b[0m \u001b[0;34m*\u001b[0m\u001b[0margs\u001b[0m\u001b[0;34m,\u001b[0m \u001b[0mdata\u001b[0m\u001b[0;34m=\u001b[0m\u001b[0;32mNone\u001b[0m\u001b[0;34m,\u001b[0m \u001b[0;34m**\u001b[0m\u001b[0mkwargs\u001b[0m\u001b[0;34m)\u001b[0m\u001b[0;34m:\u001b[0m\u001b[0;34m\u001b[0m\u001b[0;34m\u001b[0m\u001b[0m\n\u001b[1;32m   1446\u001b[0m         \u001b[0;32mif\u001b[0m \u001b[0mdata\u001b[0m \u001b[0;32mis\u001b[0m \u001b[0;32mNone\u001b[0m\u001b[0;34m:\u001b[0m\u001b[0;34m\u001b[0m\u001b[0;34m\u001b[0m\u001b[0m\n\u001b[0;32m-> 1447\u001b[0;31m             \u001b[0;32mreturn\u001b[0m \u001b[0mfunc\u001b[0m\u001b[0;34m(\u001b[0m\u001b[0max\u001b[0m\u001b[0;34m,\u001b[0m \u001b[0;34m*\u001b[0m\u001b[0mmap\u001b[0m\u001b[0;34m(\u001b[0m\u001b[0msanitize_sequence\u001b[0m\u001b[0;34m,\u001b[0m \u001b[0margs\u001b[0m\u001b[0;34m)\u001b[0m\u001b[0;34m,\u001b[0m \u001b[0;34m**\u001b[0m\u001b[0mkwargs\u001b[0m\u001b[0;34m)\u001b[0m\u001b[0;34m\u001b[0m\u001b[0;34m\u001b[0m\u001b[0m\n\u001b[0m\u001b[1;32m   1448\u001b[0m \u001b[0;34m\u001b[0m\u001b[0m\n\u001b[1;32m   1449\u001b[0m         \u001b[0mbound\u001b[0m \u001b[0;34m=\u001b[0m \u001b[0mnew_sig\u001b[0m\u001b[0;34m.\u001b[0m\u001b[0mbind\u001b[0m\u001b[0;34m(\u001b[0m\u001b[0max\u001b[0m\u001b[0;34m,\u001b[0m \u001b[0;34m*\u001b[0m\u001b[0margs\u001b[0m\u001b[0;34m,\u001b[0m \u001b[0;34m**\u001b[0m\u001b[0mkwargs\u001b[0m\u001b[0;34m)\u001b[0m\u001b[0;34m\u001b[0m\u001b[0;34m\u001b[0m\u001b[0m\n",
      "\u001b[0;32m~/anaconda3/lib/python3.7/site-packages/matplotlib/axes/_axes.py\u001b[0m in \u001b[0;36mimshow\u001b[0;34m(self, X, cmap, norm, aspect, interpolation, alpha, vmin, vmax, origin, extent, filternorm, filterrad, resample, url, **kwargs)\u001b[0m\n\u001b[1;32m   5521\u001b[0m                               resample=resample, **kwargs)\n\u001b[1;32m   5522\u001b[0m \u001b[0;34m\u001b[0m\u001b[0m\n\u001b[0;32m-> 5523\u001b[0;31m         \u001b[0mim\u001b[0m\u001b[0;34m.\u001b[0m\u001b[0mset_data\u001b[0m\u001b[0;34m(\u001b[0m\u001b[0mX\u001b[0m\u001b[0;34m)\u001b[0m\u001b[0;34m\u001b[0m\u001b[0;34m\u001b[0m\u001b[0m\n\u001b[0m\u001b[1;32m   5524\u001b[0m         \u001b[0mim\u001b[0m\u001b[0;34m.\u001b[0m\u001b[0mset_alpha\u001b[0m\u001b[0;34m(\u001b[0m\u001b[0malpha\u001b[0m\u001b[0;34m)\u001b[0m\u001b[0;34m\u001b[0m\u001b[0;34m\u001b[0m\u001b[0m\n\u001b[1;32m   5525\u001b[0m         \u001b[0;32mif\u001b[0m \u001b[0mim\u001b[0m\u001b[0;34m.\u001b[0m\u001b[0mget_clip_path\u001b[0m\u001b[0;34m(\u001b[0m\u001b[0;34m)\u001b[0m \u001b[0;32mis\u001b[0m \u001b[0;32mNone\u001b[0m\u001b[0;34m:\u001b[0m\u001b[0;34m\u001b[0m\u001b[0;34m\u001b[0m\u001b[0m\n",
      "\u001b[0;32m~/anaconda3/lib/python3.7/site-packages/matplotlib/image.py\u001b[0m in \u001b[0;36mset_data\u001b[0;34m(self, A)\u001b[0m\n\u001b[1;32m    701\u001b[0m                 not np.can_cast(self._A.dtype, float, \"same_kind\")):\n\u001b[1;32m    702\u001b[0m             raise TypeError(\"Image data of dtype {} cannot be converted to \"\n\u001b[0;32m--> 703\u001b[0;31m                             \"float\".format(self._A.dtype))\n\u001b[0m\u001b[1;32m    704\u001b[0m \u001b[0;34m\u001b[0m\u001b[0m\n\u001b[1;32m    705\u001b[0m         \u001b[0;32mif\u001b[0m \u001b[0mself\u001b[0m\u001b[0;34m.\u001b[0m\u001b[0m_A\u001b[0m\u001b[0;34m.\u001b[0m\u001b[0mndim\u001b[0m \u001b[0;34m==\u001b[0m \u001b[0;36m3\u001b[0m \u001b[0;32mand\u001b[0m \u001b[0mself\u001b[0m\u001b[0;34m.\u001b[0m\u001b[0m_A\u001b[0m\u001b[0;34m.\u001b[0m\u001b[0mshape\u001b[0m\u001b[0;34m[\u001b[0m\u001b[0;34m-\u001b[0m\u001b[0;36m1\u001b[0m\u001b[0;34m]\u001b[0m \u001b[0;34m==\u001b[0m \u001b[0;36m1\u001b[0m\u001b[0;34m:\u001b[0m\u001b[0;34m\u001b[0m\u001b[0;34m\u001b[0m\u001b[0m\n",
      "\u001b[0;31mTypeError\u001b[0m: Image data of dtype object cannot be converted to float"
     ]
    },
    {
     "data": {
      "image/png": "[encoded data removed]",
      "text/plain": [
       "<Figure size 432x288 with 1 Axes>"
      ]
     },
     "metadata": {
      "needs_background": "light"
     },
     "output_type": "display_data"
    }
   ],
   "source": [
    "import matplotlib.pyplot as plt\n",
    "\n",
    "plt.imshow(cv2.imread(\"./Public_Prediction/00000003.png\"))"
   ]
  },
  {
   "cell_type": "code",
   "execution_count": 10,
   "id": "iraqi-concentration",
   "metadata": {},
   "outputs": [
    {
     "name": "stdout",
     "output_type": "stream",
     "text": [
      "  adding: Public_Prediction/ (stored 0%)\r\n",
      "  adding: Public_Prediction/Public_00000089.png (deflated 57%)\r\n",
      "  adding: Public_Prediction/Public_00000031.png (deflated 79%)\r\n",
      "  adding: Public_Prediction/Public_00000001.png (deflated 67%)\r\n",
      "  adding: Public_Prediction/Public_00000099.png (deflated 35%)\r\n",
      "  adding: Public_Prediction/Public_00000013.png (deflated 39%)\r\n",
      "  adding: Public_Prediction/Public_00000041.png (deflated 75%)\r\n",
      "  adding: Public_Prediction/Public_00000023.png (deflated 70%)\r\n",
      "  adding: Public_Prediction/Public_00000119.png (deflated 50%)\r\n",
      "  adding: Public_Prediction/Public_00000126.png (deflated 61%)\r\n",
      "  adding: Public_Prediction/Public_00000022.png (deflated 69%)\r\n",
      "  adding: Public_Prediction/Public_00000110.png (deflated 61%)\r\n",
      "  adding: Public_Prediction/Public_00000121.png (deflated 51%)\r\n",
      "  adding: Public_Prediction/Public_00000076.png (deflated 41%)\r\n",
      "  adding: Public_Prediction/Public_00000127.png (deflated 45%)\r\n",
      "  adding: Public_Prediction/Public_00000028.png (deflated 64%)\r\n",
      "  adding: Public_Prediction/Public_00000005.png (deflated 35%)\r\n",
      "  adding: Public_Prediction/Public_00000043.png (deflated 31%)\r\n",
      "  adding: Public_Prediction/Public_00000128.png (deflated 54%)\r\n",
      "  adding: Public_Prediction/Public_00000061.png (deflated 64%)\r\n",
      "  adding: Public_Prediction/Public_00000038.png (deflated 68%)\r\n",
      "  adding: Public_Prediction/Public_00000019.png (deflated 69%)\r\n",
      "  adding: Public_Prediction/Public_00000059.png (deflated 63%)\r\n",
      "  adding: Public_Prediction/Public_00000129.png (deflated 63%)\r\n",
      "  adding: Public_Prediction/Public_00000096.png (deflated 82%)\r\n",
      "  adding: Public_Prediction/Public_00000034.png (deflated 55%)\r\n",
      "  adding: Public_Prediction/Public_00000020.png (deflated 62%)\r\n",
      "  adding: Public_Prediction/Public_00000015.png (deflated 47%)\r\n",
      "  adding: Public_Prediction/Public_00000029.png (deflated 55%)\r\n",
      "  adding: Public_Prediction/Public_00000100.png (deflated 36%)\r\n",
      "  adding: Public_Prediction/Public_00000109.png (deflated 64%)\r\n",
      "  adding: Public_Prediction/Public_00000003.png (deflated 35%)\r\n",
      "  adding: Public_Prediction/Public_00000033.png (deflated 62%)\r\n",
      "  adding: Public_Prediction/Public_00000046.png (deflated 67%)\r\n",
      "  adding: Public_Prediction/Public_00000014.png (deflated 35%)\r\n",
      "  adding: Public_Prediction/Public_00000011.png (deflated 31%)\r\n",
      "  adding: Public_Prediction/Public_00000047.png (deflated 79%)\r\n",
      "  adding: Public_Prediction/Public_00000118.png (deflated 48%)\r\n",
      "  adding: Public_Prediction/Public_00000071.png (deflated 45%)\r\n",
      "  adding: Public_Prediction/Public_00000072.png (deflated 60%)\r\n",
      "  adding: Public_Prediction/Public_00000024.png (deflated 78%)\r\n",
      "  adding: Public_Prediction/Public_00000113.png (deflated 66%)\r\n",
      "  adding: Public_Prediction/Public_00000045.png (deflated 76%)\r\n",
      "  adding: Public_Prediction/Public_00000094.png (deflated 64%)\r\n",
      "  adding: Public_Prediction/Public_00000007.png (deflated 32%)\r\n",
      "  adding: Public_Prediction/Public_00000018.png (deflated 73%)\r\n",
      "  adding: Public_Prediction/Public_00000017.png (deflated 38%)\r\n",
      "  adding: Public_Prediction/Public_00000077.png (deflated 38%)\r\n",
      "  adding: Public_Prediction/Public_00000049.png (deflated 66%)\r\n",
      "  adding: Public_Prediction/Public_00000104.png (deflated 61%)\r\n",
      "  adding: Public_Prediction/Public_00000063.png (deflated 48%)\r\n",
      "  adding: Public_Prediction/Public_00000081.png (deflated 69%)\r\n",
      "  adding: Public_Prediction/Public_00000068.png (deflated 50%)\r\n",
      "  adding: Public_Prediction/Public_00000044.png (deflated 64%)\r\n",
      "  adding: Public_Prediction/Public_00000079.png (deflated 65%)\r\n",
      "  adding: Public_Prediction/Public_00000036.png (deflated 46%)\r\n",
      "  adding: Public_Prediction/Public_00000098.png (deflated 48%)\r\n",
      "  adding: Public_Prediction/Public_00000065.png (deflated 39%)\r\n",
      "  adding: Public_Prediction/Public_00000095.png (deflated 81%)\r\n",
      "  adding: Public_Prediction/Public_00000087.png (deflated 69%)\r\n",
      "  adding: Public_Prediction/Public_00000012.png (deflated 38%)\r\n",
      "  adding: Public_Prediction/Public_00000082.png (deflated 74%)\r\n",
      "  adding: Public_Prediction/Public_00000004.png (deflated 35%)\r\n",
      "  adding: Public_Prediction/Public_00000124.png (deflated 54%)\r\n",
      "  adding: Public_Prediction/Public_00000117.png (deflated 62%)\r\n",
      "  adding: Public_Prediction/Public_00000123.png (deflated 54%)\r\n",
      "  adding: Public_Prediction/Public_00000027.png (deflated 77%)\r\n",
      "  adding: Public_Prediction/Public_00000000.png (deflated 45%)\r\n",
      "  adding: Public_Prediction/Public_00000057.png (deflated 60%)\r\n",
      "  adding: Public_Prediction/Public_00000042.png (deflated 80%)\r\n",
      "  adding: Public_Prediction/Public_00000056.png (deflated 80%)\r\n",
      "  adding: Public_Prediction/Public_00000078.png (deflated 32%)\r\n",
      "  adding: Public_Prediction/Public_00000106.png (deflated 38%)\r\n",
      "  adding: Public_Prediction/Public_00000075.png (deflated 62%)\r\n",
      "  adding: Public_Prediction/Public_00000125.png (deflated 69%)\r\n",
      "  adding: Public_Prediction/Public_00000086.png (deflated 79%)\r\n",
      "  adding: Public_Prediction/Public_00000092.png (deflated 46%)\r\n",
      "  adding: Public_Prediction/Public_00000026.png (deflated 77%)\r\n",
      "  adding: Public_Prediction/Public_00000090.png (deflated 59%)\r\n",
      "  adding: Public_Prediction/Public_00000074.png (deflated 55%)\r\n",
      "  adding: Public_Prediction/Public_00000091.png (deflated 69%)\r\n",
      "  adding: Public_Prediction/Public_00000009.png (deflated 66%)\r\n",
      "  adding: Public_Prediction/Public_00000103.png (deflated 61%)\r\n",
      "  adding: Public_Prediction/Public_00000067.png (deflated 48%)\r\n",
      "  adding: Public_Prediction/Public_00000030.png (deflated 60%)\r\n",
      "  adding: Public_Prediction/Public_00000108.png (deflated 65%)\r\n",
      "  adding: Public_Prediction/Public_00000035.png (deflated 71%)\r\n",
      "  adding: Public_Prediction/Public_00000084.png (deflated 78%)\r\n",
      "  adding: Public_Prediction/Public_00000093.png (deflated 71%)\r\n",
      "  adding: Public_Prediction/Public_00000073.png (deflated 68%)\r\n",
      "  adding: Public_Prediction/Public_00000114.png (deflated 48%)\r\n",
      "  adding: Public_Prediction/Public_00000008.png (deflated 45%)\r\n",
      "  adding: Public_Prediction/Public_00000037.png (deflated 50%)\r\n",
      "  adding: Public_Prediction/Public_00000066.png (deflated 47%)\r\n",
      "  adding: Public_Prediction/Public_00000055.png (deflated 70%)\r\n",
      "  adding: Public_Prediction/Public_00000058.png (deflated 61%)\r\n",
      "  adding: Public_Prediction/Public_00000051.png (deflated 79%)\r\n",
      "  adding: Public_Prediction/Public_00000062.png (deflated 48%)\r\n",
      "  adding: Public_Prediction/Public_00000115.png (deflated 51%)\r\n",
      "  adding: Public_Prediction/Public_00000053.png (deflated 61%)\r\n",
      "  adding: Public_Prediction/Public_00000048.png (deflated 81%)\r\n",
      "  adding: Public_Prediction/Public_00000052.png (deflated 64%)\r\n",
      "  adding: Public_Prediction/Public_00000085.png (deflated 60%)\r\n",
      "  adding: Public_Prediction/Public_00000122.png (deflated 39%)\r\n",
      "  adding: Public_Prediction/Public_00000039.png (deflated 78%)\r\n",
      "  adding: Public_Prediction/Public_00000130.png (deflated 48%)\r\n",
      "  adding: Public_Prediction/Public_00000021.png (deflated 54%)\r\n",
      "  adding: Public_Prediction/Public_00000105.png (deflated 43%)\r\n",
      "  adding: Public_Prediction/Public_00000107.png (deflated 60%)\r\n",
      "  adding: Public_Prediction/Public_00000025.png (deflated 82%)\r\n",
      "  adding: Public_Prediction/Public_00000060.png (deflated 70%)\r\n",
      "  adding: Public_Prediction/Public_00000116.png (deflated 40%)\r\n",
      "  adding: Public_Prediction/Public_00000016.png (deflated 35%)\r\n",
      "  adding: Public_Prediction/Public_00000002.png (deflated 74%)\r\n",
      "  adding: Public_Prediction/Public_00000032.png (deflated 54%)\r\n",
      "  adding: Public_Prediction/Public_00000112.png (deflated 77%)\r\n",
      "  adding: Public_Prediction/Public_00000083.png (deflated 59%)\r\n",
      "  adding: Public_Prediction/Public_00000006.png (deflated 75%)\r\n",
      "  adding: Public_Prediction/Public_00000070.png (deflated 66%)\r\n",
      "  adding: Public_Prediction/Public_00000102.png (deflated 55%)\r\n",
      "  adding: Public_Prediction/Public_00000010.png (deflated 31%)\r\n",
      "  adding: Public_Prediction/Public_00000069.png (deflated 74%)\r\n",
      "  adding: Public_Prediction/Public_00000088.png (deflated 79%)\r\n",
      "  adding: Public_Prediction/Public_00000111.png (deflated 63%)\r\n",
      "  adding: Public_Prediction/Public_00000101.png (deflated 61%)\r\n",
      "  adding: Public_Prediction/Public_00000050.png (deflated 57%)\r\n",
      "  adding: Public_Prediction/Public_00000064.png (deflated 72%)\r\n",
      "  adding: Public_Prediction/Public_00000097.png (deflated 62%)\r\n",
      "  adding: Public_Prediction/Public_00000054.png (deflated 73%)\r\n",
      "  adding: Public_Prediction/Public_00000080.png (deflated 52%)\r\n",
      "  adding: Public_Prediction/Public_00000040.png (deflated 75%)\r\n",
      "  adding: Public_Prediction/Public_00000120.png (deflated 57%)\r\n"
     ]
    }
   ],
   "source": [
    "!zip -r \"./Public_Prediction.zip\" \"./Public_Prediction/\""
   ]
  },
  {
   "cell_type": "code",
   "execution_count": null,
   "id": "productive-intention",
   "metadata": {},
   "outputs": [],
   "source": []
  }
 ],
 "metadata": {
  "kernelspec": {
   "display_name": "Python 3",
   "language": "python",
   "name": "python3"
  },
  "language_info": {
   "codemirror_mode": {
    "name": "ipython",
    "version": 3
   },
   "file_extension": ".py",
   "mimetype": "text/x-python",
   "name": "python",
   "nbconvert_exporter": "python",
   "pygments_lexer": "ipython3",
   "version": "3.7.10"
  }
 },
 "nbformat": 4,
 "nbformat_minor": 5
}
